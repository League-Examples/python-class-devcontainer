{
  "cells": [
    {
      "cell_type": "markdown",
      "id": "b468cf69",
      "metadata": {},
      "source": [
        "# Creating League Lessons\n",
        "\n",
        "This is a guide to creating League Lessons, using Github Codespaces and the `syl` syllabus generation program. \n",
        "\n",
        "There are many forms of League Courses, each tailored to a specific type of class. This guide will show you how to create a course for teaching programming, computer science or other software topics. These courses are implemented using:\n",
        "\n",
        "* Github codespaces, a web-based development environment\n",
        "* The `syl` syllabus generation program, which creates a syllabus from a set of lessons\n",
        "\n",
        "In this class, you will learn how to use these tools to modify this repository to create your own class. "
      ]
    },
    {
      "cell_type": "markdown",
      "id": "9431dddc",
      "metadata": {},
      "source": [
        "## Overview of Syl Courses\n",
        "\n",
        "A League Syl course is just a Github repository with a specific structure. The repository contains a `lessons` directory which will have module directories, and the module directories will have lesson files or directories. We use the `syl` program to read this directory structure and generate a syllabus file, which is stored in `lessons/.jtl/syllabus.yaml`\n",
        "\n",
        "Once we have a `syllabus.yaml` file, the League Lesson Browser extension can read the file and display the lessons in a user-friendly way. The Lesson Browser appears in the activity bar with the League flag icon, and displays a tree of lessons along with an action box that allows students to advance to the next lesson, start and stop programs, and open a virtual screen. \n",
        "\n",
        "The lesson files are written in either Markdown, which is a lightweight markup language, in a programming language like Python. This file is written in Markdown in a Jupyter notebook, which allows for both rich text formatting and executable code cells. We can also have lessons in plain Markdown, which is useful for text-based lessons without code.\n"
      ]
    },
    {
      "cell_type": "markdown",
      "id": "d053f18d",
      "metadata": {},
      "source": [
        "\n",
        "\n",
        "### Preparing to Create A Course\n",
        "\n",
        "The first things to do create a new course is to make a copy of it. Use the green 'Use this Template' button on [this repository]](https://github.com/League-Examples/python-class-devcontainer) and set the name of your new course repository. This will create a new repository with the same structure as the template, which you can then modify to create your course.\n",
        "\n",
        "Now that you have your own copy, you can open it in Github Codespaces. Click on the green 'Code' button, and then click on 'Open with Codespaces'. This will create a new codespace for your repository, which is a web-based development environment that allows you to edit files and run code. It's also the same environment your students will use to take the course. \n",
        "\n",
        "<img src=\"https://images.jointheleague.org/vscode/create_codespace.png\" style=\"width: 200px;\">\n",
        "\n",
        "After a few minutes, you Codespace will be running and you will have an online programming editor, and you can learn how to use the system to create your course. \n",
        "\n",
        "The League Lesson Browser simplifies the VS Code interface for students, hiding a lot of files and folders. If you are developing a course, you will want to see these files and folders. In the Activity Bar, click on the Explorer Icon, which looks like two files. This will show you the file tree of the repository, however, a lot of files you will want to see are hidden. \n"
      ]
    },
    {
      "cell_type": "markdown",
      "id": "ecf678e9",
      "metadata": {},
      "source": [
        "To see these files, you will want to run a VSCode command to show them. Open the Command Palette by pressing `Ctrl+Shift+P` (or `Cmd+Shift+P` on Mac) or click on it in the top menu bar and type \" > \" to enter a command. Then type `League: ` to see an auto complete list of League Lesson Browser commands. \n",
        "\n",
        "Here are the available League commands:\n",
        "\n",
        "* League: Student UI Mode\n",
        "* League: Default UI Mode\n",
        "* League: Toggle UI Mode\n",
        "* League: Show Hidden System Files\n",
        "* League: Clear Lesson Completion\n",
        "* League: Close Virtual Display\n",
        "* League: Hide System Files\n",
        "* League: Open Lesson\n",
        "* League: Open Virtual Display\n",
        "* League: Open Virtual Display on Right\n",
        "* League: Redirect to Page\n",
        "* League: Toggle Virtual Display\n",
        "\n",
        "<div style=\"background-color: #e6f2ff; border: 2px solid #003366; padding: 12px; border-radius: 6px; margin: 12px 0; width: 90%;\">\n",
        "To restore the default UI settings, execute  <code>League: Default UI Mode</code>.<br>\n",
        "You can also use the <code>League: Toggle UI Mode</code> command, which, on a Mac, is bound to the keystroke <code>⌃ ⌥ j</code>.\n",
        "</div>\n",
        "\n",
        "\n",
        "\n"
      ]
    },
    {
      "cell_type": "markdown",
      "id": "9e5d5c0f",
      "metadata": {},
      "source": []
    }
  ],
  "metadata": {
    "kernelspec": {
      "display_name": "Python 3",
      "language": "python",
      "name": "python3"
    },
    "language_info": {
      "name": "python",
      "version": "3.12.1"
    },
    "syllabus": {
      "uid": "IUh3u37k"
    }
  },
  "nbformat": 4,
  "nbformat_minor": 5
}

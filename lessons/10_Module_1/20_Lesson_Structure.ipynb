{
  "cells": [
    {
      "cell_type": "markdown",
      "id": "240330a3",
      "metadata": {},
      "source": [
        "# League Lesson Structure\n",
        "\n",
        "\n",
        "Let's look at the files that are in a lesson directory, which we will do by running the `tree` program right from this notebook. \n",
        "\n",
        "\n",
        "Run the code cell below by clicking the run button. "
      ]
    },
    {
      "cell_type": "code",
      "execution_count": 1,
      "id": "3075d6ad",
      "metadata": {},
      "outputs": [
        {
          "name": "stdout",
          "output_type": "stream",
          "text": [
            "\u001b[01;34m../../lessons\u001b[00m\n",
            "├── \u001b[01;34m10_Module_1\u001b[00m\n",
            "│   ├── 10_Getting_Started.ipynb\n",
            "│   ├── 20_Lesson_Structure.ipynb\n",
            "│   └── README.md\n",
            "├── \u001b[01;34m20_Module_2\u001b[00m\n",
            "│   ├── 10_Testing_Your_Class.ipynb\n",
            "│   └── README.md\n",
            "├── \u001b[01;34m30_Examples\u001b[00m\n",
            "│   ├── 10_Lesson_1.md\n",
            "│   ├── 10_Lesson_1.py\n",
            "│   └── \u001b[01;34m20_Lesson_2\u001b[00m\n",
            "│       ├── Exercise.py\n",
            "│       └── Lesson.md\n",
            "└── README.md\n",
            "\n",
            "4 directories, 10 files\n"
          ]
        }
      ],
      "source": [
        "! tree ../../lessons"
      ]
    },
    {
      "cell_type": "markdown",
      "id": "a583140a",
      "metadata": {},
      "source": [
        "If you want to see these files in the VSCode Explorer, be sure you are in default UI mode (run `League: Default UI Mode` or hit `⌃ ⌥ j`)\n",
        "\n",
        "The important points to note are: \n",
        "\n",
        "1) The lessons are all in a directory called `lessons`\n",
        "2) The `lessons` directory will online contain module directories and a `README.md` file\n",
        "3) Both modules and lessons files will have a number prefix, which is used to order them.\n",
        "4) Modules can contain lesson files directly, for single-file lessons, or a lessons directory for multiple lessons.\n",
        "5) Lesson files can be Jupyter notebooks ( .ipynb ), Markdown files ( .md ), or Python files ( .py )\n",
        "\n",
        " \n"
      ]
    },
    {
      "cell_type": "markdown",
      "id": "19900449",
      "metadata": {},
      "source": [
        "## Modules\n",
        "\n",
        "Modules are a collection of lessons, implemented as directories under `lessons`. Modules must have a number prefix, like `10_`. The directory can't have any other kind of file in it except for a README.md\n"
      ]
    },
    {
      "cell_type": "markdown",
      "id": "de404470",
      "metadata": {},
      "source": [
        "## Lessons\n",
        "\n",
        "Lessons are stored in a module directory, and there are a few types: \n",
        "\n",
        "* A single file, like `10_Module_1/10_Getting_Started.ipynb`\n",
        "* A directory, like `30_Examples/20_Lesson_2`\n",
        "* Multiple files, like `30_Examples/10_Lesson_1.md` and `30_Examples/10_Lesson_1.py`\n",
        "\n",
        "A directory is used when you want to include lesson text along with a program and store them together. You can create lessons with multiple files as seperate files with the same base name and different extensions, like `30_Examples/10_Lesson_1.md` and `30_Examples/10_Lesson_1.py`, and these will be converted to directories when you compile the syllabus. \n",
        "\n",
        "\n",
        "Your lessons can have these kinds of files: \n",
        "\n",
        "* `.py` Python code files\n",
        "* `.ipynb` Jupyter notebook files, for both code and rich text\n",
        "* `*.md` Markdown file, for rich text. \n",
        "\n",
        "\n",
        "\n",
        "\n",
        "\n",
        "\n"
      ]
    },
    {
      "cell_type": "markdown",
      "id": "f8926c7b",
      "metadata": {},
      "source": []
    }
  ],
  "metadata": {
    "kernelspec": {
      "display_name": "Python 3",
      "language": "python",
      "name": "python3"
    },
    "language_info": {
      "codemirror_mode": {
        "name": "ipython",
        "version": 3
      },
      "file_extension": ".py",
      "mimetype": "text/x-python",
      "name": "python",
      "nbconvert_exporter": "python",
      "pygments_lexer": "ipython3",
      "version": "3.12.10"
    },
    "syllabus": {
      "uid": "Xsz3sJlg"
    }
  },
  "nbformat": 4,
  "nbformat_minor": 5
}

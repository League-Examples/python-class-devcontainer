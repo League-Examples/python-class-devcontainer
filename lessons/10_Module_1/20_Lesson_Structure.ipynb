{
  "cells": [
    {
      "cell_type": "markdown",
      "id": "240330a3",
      "metadata": {},
      "source": [
        "# League Lesson Structure\n",
        "\n",
        "\n",
        "Let's look at the files that are in a lesson directory, which we will do by running the `tree` program right from this notebook:\n"
      ]
    },
    {
      "cell_type": "code",
      "execution_count": 4,
      "id": "3075d6ad",
      "metadata": {},
      "outputs": [
        {
          "name": "stdout",
          "output_type": "stream",
          "text": [
            "\u001b[01;34m../../lessons\u001b[00m\n",
            "├── \u001b[01;34m10_Module_1\u001b[00m\n",
            "│   ├── 10_Getting_Started.ipynb\n",
            "│   └── 20_Lesson_Structure.ipynb\n",
            "├── \u001b[01;34m20_Module_2\u001b[00m\n",
            "│   └── 10_Testing_Your_Class.ipynb\n",
            "├── README.md\n",
            "└── \u001b[01;34mstore\u001b[00m\n",
            "\n",
            "3 directories, 4 files\n"
          ]
        }
      ],
      "source": [
        "! tree ../../lessons"
      ]
    },
    {
      "cell_type": "markdown",
      "id": "a583140a",
      "metadata": {},
      "source": [
        "The important points to note are: \n",
        "\n",
        "1) The lessons are all in a directory called `lessons`\n",
        "2) The `lessons` directory will online contain module directories and a `README.md` file\n",
        "3) Both modules and lessons files will have a number prefix, which is used to order them.\n",
        "4) Modules can contain lesson files directly, for single-file lessons, or a lessons directory for multiple lessons.\n",
        "5) Lesson files can be Jupyter notebooks ( .ipynb ), Markdown files ( .md ), or Python files ( .py )\n",
        "\n",
        " \n"
      ]
    },
    {
      "cell_type": "markdown",
      "id": "19900449",
      "metadata": {},
      "source": [
        "Based on these points, you can "
      ]
    },
    {
      "cell_type": "code",
      "execution_count": null,
      "id": "68c3895b",
      "metadata": {},
      "outputs": [],
      "source": [
        "1"
      ]
    }
  ],
  "metadata": {
    "kernelspec": {
      "display_name": "Python 3",
      "language": "python",
      "name": "python3"
    },
    "language_info": {
      "codemirror_mode": {
        "name": "ipython",
        "version": 3
      },
      "file_extension": ".py",
      "mimetype": "text/x-python",
      "name": "python",
      "nbconvert_exporter": "python",
      "pygments_lexer": "ipython3",
      "version": "3.12.10"
    },
    "syllabus": {
      "uid": "Xsz3sJlg"
    }
  },
  "nbformat": 4,
  "nbformat_minor": 5
}

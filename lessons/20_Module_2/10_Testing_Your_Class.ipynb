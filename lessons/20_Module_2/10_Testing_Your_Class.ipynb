{
  "cells": [
    {
      "cell_type": "markdown",
      "id": "b468cf69",
      "metadata": {},
      "source": [
        "# Creating League Lessons\n",
        "\n",
        "This is a guide to creating League Lessons. \n"
      ]
    },
    {
      "cell_type": "code",
      "execution_count": null,
      "id": "9431dddc",
      "metadata": {},
      "outputs": [],
      "source": [
        "\n",
        "\n"
      ]
    }
  ],
  "metadata": {
    "kernelspec": {
      "display_name": "Python 3",
      "language": "python",
      "name": "python3"
    },
    "language_info": {
      "name": "python",
      "version": "3.12.10"
    },
    "syllabus": {
      "uid": "FeB2FgBc"
    }
  },
  "nbformat": 4,
  "nbformat_minor": 5
}
